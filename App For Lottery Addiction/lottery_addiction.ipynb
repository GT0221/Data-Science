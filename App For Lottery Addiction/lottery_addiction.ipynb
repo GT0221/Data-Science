{
 "cells": [
  {
   "cell_type": "markdown",
   "metadata": {},
   "source": [
    "# Mobile App for Lottery Addiction\n",
    "\n",
    "The main purpose of this project is to practice applying probability and combinatorics (permutations and combinations) concepts. \n",
    "\n",
    "Throughout this projects, functions will be defined that can answer the following questions:\n",
    "- What is the probability of winning the big prize with a single ticket?\n",
    "- What is the probability of winning the big prize if we play 40 different tickets (or any other number)?\n",
    "- What is the probability of having at least five (or four, or three) winning numbers on a single ticket?"
   ]
  },
  {
   "cell_type": "markdown",
   "metadata": {},
   "source": [
    "# Core Functions"
   ]
  },
  {
   "cell_type": "markdown",
   "metadata": {},
   "source": [
    "The cell below contains two functions that will be used frequently throughout this project:\n",
    "- `factorial()` : function that returns the factorial of a number.\n",
    "- `combinations()` : function that returns total number of combinitions."
   ]
  },
  {
   "cell_type": "code",
   "execution_count": 1,
   "metadata": {
    "collapsed": false
   },
   "outputs": [
    {
     "name": "stdout",
     "output_type": "stream",
     "text": [
      "13983816.0\n"
     ]
    }
   ],
   "source": [
    "# function that returns factorial\n",
    "def factorial(n):\n",
    "    return n < 1 or n*factorial(n-1)\n",
    "\n",
    "# function that returns combinations\n",
    "def combinations(n, k):\n",
    "    return (factorial(n)) / (factorial(k) * factorial(n-k))"
   ]
  },
  {
   "cell_type": "markdown",
   "metadata": {},
   "source": [
    "# One Ticket Probability"
   ]
  },
  {
   "cell_type": "markdown",
   "metadata": {},
   "source": [
    "Below, is the function `one_ticket_probability()` that takes in a list of 6 numbers, calculates the probability of winning the big prize with one ticket, and prints the results in a easy to understand manner."
   ]
  },
  {
   "cell_type": "code",
   "execution_count": 2,
   "metadata": {
    "collapsed": false
   },
   "outputs": [],
   "source": [
    "def one_ticket_probability(num_list):\n",
    "    n_combinations = combinations(49, 6)\n",
    "    probability_1 = 1 / n_combinations\n",
    "    percentage_form = probability_1 * 100\n",
    "    \n",
    "    print('''Chances of winning the big prize lottery with the numbers {} are {:.7f}%.\n",
    "In other words, you have 1 in {:,} chances to win.'''.format(num_list, \n",
    "                                     percentage_form, int(n_combinations)))"
   ]
  },
  {
   "cell_type": "code",
   "execution_count": 3,
   "metadata": {
    "collapsed": false,
    "scrolled": true
   },
   "outputs": [
    {
     "name": "stdout",
     "output_type": "stream",
     "text": [
      "Chances of winning the big prize lottery with the numbers [3, 5, 38, 49, 12, 44] are 0.0000072%.\n",
      "In other words, you have 1 in 13,983,816 chances to win.\n"
     ]
    }
   ],
   "source": [
    "# testing the function\n",
    "test_1 = one_ticket_probability([3, 5, 38, 49, 12, 44])"
   ]
  },
  {
   "cell_type": "code",
   "execution_count": 4,
   "metadata": {
    "collapsed": false,
    "scrolled": true
   },
   "outputs": [
    {
     "name": "stdout",
     "output_type": "stream",
     "text": [
      "Chances of winning the big prize lottery with the numbers [33, 26, 8, 32, 40, 11] are 0.0000072%.\n",
      "In other words, you have 1 in 13,983,816 chances to win.\n"
     ]
    }
   ],
   "source": [
    "test_2 = one_ticket_probability([33, 26, 8, 32, 40, 11])"
   ]
  },
  {
   "cell_type": "markdown",
   "metadata": {},
   "source": [
    "# Historical Data Check for Canada Lottery\n",
    "The data set `649.csv` contains historical data for the 6/49 Canadian lottery. It contains 3,665 drawings dating from 1982 to 2018.\n",
    "\n",
    "Access to the dataset can be found through this [link](https://www.kaggle.com/datascienceai/lottery-dataset)."
   ]
  },
  {
   "cell_type": "code",
   "execution_count": 5,
   "metadata": {
    "collapsed": false
   },
   "outputs": [
    {
     "name": "stdout",
     "output_type": "stream",
     "text": [
      "(3665, 11)\n"
     ]
    }
   ],
   "source": [
    "import pandas as pd\n",
    "lottery_649 = pd.read_csv('649.csv')\n",
    "\n",
    "print(lottery_649.shape)"
   ]
  },
  {
   "cell_type": "code",
   "execution_count": 6,
   "metadata": {
    "collapsed": false
   },
   "outputs": [
    {
     "data": {
      "text/html": [
       "<div>\n",
       "<style scoped>\n",
       "    .dataframe tbody tr th:only-of-type {\n",
       "        vertical-align: middle;\n",
       "    }\n",
       "\n",
       "    .dataframe tbody tr th {\n",
       "        vertical-align: top;\n",
       "    }\n",
       "\n",
       "    .dataframe thead th {\n",
       "        text-align: right;\n",
       "    }\n",
       "</style>\n",
       "<table border=\"1\" class=\"dataframe\">\n",
       "  <thead>\n",
       "    <tr style=\"text-align: right;\">\n",
       "      <th></th>\n",
       "      <th>PRODUCT</th>\n",
       "      <th>DRAW NUMBER</th>\n",
       "      <th>SEQUENCE NUMBER</th>\n",
       "      <th>DRAW DATE</th>\n",
       "      <th>NUMBER DRAWN 1</th>\n",
       "      <th>NUMBER DRAWN 2</th>\n",
       "      <th>NUMBER DRAWN 3</th>\n",
       "      <th>NUMBER DRAWN 4</th>\n",
       "      <th>NUMBER DRAWN 5</th>\n",
       "      <th>NUMBER DRAWN 6</th>\n",
       "      <th>BONUS NUMBER</th>\n",
       "    </tr>\n",
       "  </thead>\n",
       "  <tbody>\n",
       "    <tr>\n",
       "      <th>0</th>\n",
       "      <td>649</td>\n",
       "      <td>1</td>\n",
       "      <td>0</td>\n",
       "      <td>6/12/1982</td>\n",
       "      <td>3</td>\n",
       "      <td>11</td>\n",
       "      <td>12</td>\n",
       "      <td>14</td>\n",
       "      <td>41</td>\n",
       "      <td>43</td>\n",
       "      <td>13</td>\n",
       "    </tr>\n",
       "    <tr>\n",
       "      <th>1</th>\n",
       "      <td>649</td>\n",
       "      <td>2</td>\n",
       "      <td>0</td>\n",
       "      <td>6/19/1982</td>\n",
       "      <td>8</td>\n",
       "      <td>33</td>\n",
       "      <td>36</td>\n",
       "      <td>37</td>\n",
       "      <td>39</td>\n",
       "      <td>41</td>\n",
       "      <td>9</td>\n",
       "    </tr>\n",
       "    <tr>\n",
       "      <th>2</th>\n",
       "      <td>649</td>\n",
       "      <td>3</td>\n",
       "      <td>0</td>\n",
       "      <td>6/26/1982</td>\n",
       "      <td>1</td>\n",
       "      <td>6</td>\n",
       "      <td>23</td>\n",
       "      <td>24</td>\n",
       "      <td>27</td>\n",
       "      <td>39</td>\n",
       "      <td>34</td>\n",
       "    </tr>\n",
       "  </tbody>\n",
       "</table>\n",
       "</div>"
      ],
      "text/plain": [
       "   PRODUCT  DRAW NUMBER  SEQUENCE NUMBER  DRAW DATE  NUMBER DRAWN 1  \\\n",
       "0      649            1                0  6/12/1982               3   \n",
       "1      649            2                0  6/19/1982               8   \n",
       "2      649            3                0  6/26/1982               1   \n",
       "\n",
       "   NUMBER DRAWN 2  NUMBER DRAWN 3  NUMBER DRAWN 4  NUMBER DRAWN 5  \\\n",
       "0              11              12              14              41   \n",
       "1              33              36              37              39   \n",
       "2               6              23              24              27   \n",
       "\n",
       "   NUMBER DRAWN 6  BONUS NUMBER  \n",
       "0              43            13  \n",
       "1              41             9  \n",
       "2              39            34  "
      ]
     },
     "execution_count": 6,
     "metadata": {},
     "output_type": "execute_result"
    }
   ],
   "source": [
    "lottery_649.head(3)"
   ]
  },
  {
   "cell_type": "code",
   "execution_count": 7,
   "metadata": {
    "collapsed": false,
    "scrolled": true
   },
   "outputs": [
    {
     "data": {
      "text/html": [
       "<div>\n",
       "<style scoped>\n",
       "    .dataframe tbody tr th:only-of-type {\n",
       "        vertical-align: middle;\n",
       "    }\n",
       "\n",
       "    .dataframe tbody tr th {\n",
       "        vertical-align: top;\n",
       "    }\n",
       "\n",
       "    .dataframe thead th {\n",
       "        text-align: right;\n",
       "    }\n",
       "</style>\n",
       "<table border=\"1\" class=\"dataframe\">\n",
       "  <thead>\n",
       "    <tr style=\"text-align: right;\">\n",
       "      <th></th>\n",
       "      <th>PRODUCT</th>\n",
       "      <th>DRAW NUMBER</th>\n",
       "      <th>SEQUENCE NUMBER</th>\n",
       "      <th>DRAW DATE</th>\n",
       "      <th>NUMBER DRAWN 1</th>\n",
       "      <th>NUMBER DRAWN 2</th>\n",
       "      <th>NUMBER DRAWN 3</th>\n",
       "      <th>NUMBER DRAWN 4</th>\n",
       "      <th>NUMBER DRAWN 5</th>\n",
       "      <th>NUMBER DRAWN 6</th>\n",
       "      <th>BONUS NUMBER</th>\n",
       "    </tr>\n",
       "  </thead>\n",
       "  <tbody>\n",
       "    <tr>\n",
       "      <th>3662</th>\n",
       "      <td>649</td>\n",
       "      <td>3589</td>\n",
       "      <td>0</td>\n",
       "      <td>6/13/2018</td>\n",
       "      <td>6</td>\n",
       "      <td>22</td>\n",
       "      <td>24</td>\n",
       "      <td>31</td>\n",
       "      <td>32</td>\n",
       "      <td>34</td>\n",
       "      <td>16</td>\n",
       "    </tr>\n",
       "    <tr>\n",
       "      <th>3663</th>\n",
       "      <td>649</td>\n",
       "      <td>3590</td>\n",
       "      <td>0</td>\n",
       "      <td>6/16/2018</td>\n",
       "      <td>2</td>\n",
       "      <td>15</td>\n",
       "      <td>21</td>\n",
       "      <td>31</td>\n",
       "      <td>38</td>\n",
       "      <td>49</td>\n",
       "      <td>8</td>\n",
       "    </tr>\n",
       "    <tr>\n",
       "      <th>3664</th>\n",
       "      <td>649</td>\n",
       "      <td>3591</td>\n",
       "      <td>0</td>\n",
       "      <td>6/20/2018</td>\n",
       "      <td>14</td>\n",
       "      <td>24</td>\n",
       "      <td>31</td>\n",
       "      <td>35</td>\n",
       "      <td>37</td>\n",
       "      <td>48</td>\n",
       "      <td>17</td>\n",
       "    </tr>\n",
       "  </tbody>\n",
       "</table>\n",
       "</div>"
      ],
      "text/plain": [
       "      PRODUCT  DRAW NUMBER  SEQUENCE NUMBER  DRAW DATE  NUMBER DRAWN 1  \\\n",
       "3662      649         3589                0  6/13/2018               6   \n",
       "3663      649         3590                0  6/16/2018               2   \n",
       "3664      649         3591                0  6/20/2018              14   \n",
       "\n",
       "      NUMBER DRAWN 2  NUMBER DRAWN 3  NUMBER DRAWN 4  NUMBER DRAWN 5  \\\n",
       "3662              22              24              31              32   \n",
       "3663              15              21              31              38   \n",
       "3664              24              31              35              37   \n",
       "\n",
       "      NUMBER DRAWN 6  BONUS NUMBER  \n",
       "3662              34            16  \n",
       "3663              49             8  \n",
       "3664              48            17  "
      ]
     },
     "execution_count": 7,
     "metadata": {},
     "output_type": "execute_result"
    }
   ],
   "source": [
    "lottery_649.tail(3)"
   ]
  },
  {
   "cell_type": "markdown",
   "metadata": {},
   "source": [
    "# Function For Historical Data Check"
   ]
  },
  {
   "cell_type": "markdown",
   "metadata": {},
   "source": [
    "The `extract_numbers()` function below retrieves the 6 winning numbers from every row in the dataframe and returns them as a set."
   ]
  },
  {
   "cell_type": "code",
   "execution_count": 8,
   "metadata": {
    "collapsed": false,
    "scrolled": true
   },
   "outputs": [
    {
     "data": {
      "text/plain": [
       "0    {3, 41, 11, 12, 43, 14}\n",
       "1    {33, 36, 37, 39, 8, 41}\n",
       "2     {1, 6, 39, 23, 24, 27}\n",
       "3     {3, 9, 10, 43, 13, 20}\n",
       "4    {34, 5, 14, 47, 21, 31}\n",
       "dtype: object"
      ]
     },
     "execution_count": 8,
     "metadata": {},
     "output_type": "execute_result"
    }
   ],
   "source": [
    "def extract_numbers(row):\n",
    "    row = row[4:10]\n",
    "    row = set(row.values)\n",
    "    return row\n",
    "\n",
    "winning_numbers = lottery_649.apply(extract_numbers,axis=1)\n",
    "winning_numbers.head()"
   ]
  },
  {
   "cell_type": "markdown",
   "metadata": {},
   "source": [
    "The `check_historical_occurence()` function will take in two inputs, the users numbers and a list of winning numbers. It will print out the number of times the users numbers occured in the lottery data set and the probability of winning the big prize in the next drawing with the same combination."
   ]
  },
  {
   "cell_type": "code",
   "execution_count": 9,
   "metadata": {
    "collapsed": false
   },
   "outputs": [
    {
     "name": "stdout",
     "output_type": "stream",
     "text": [
      "The combination has occured 0 times.\n",
      "Your chances of winning using the combination [3, 4, 11, 12, 43, 14] are 0.0000072%.\n",
      "In other words, you have 1 in 13,983,816 chances to win.\n"
     ]
    }
   ],
   "source": [
    "def check_historical_occurence(user_nums, winning_nums):\n",
    "    user_num_set = set(user_nums)\n",
    "    num_matches = (winning_nums == user_num_set).sum()\n",
    "    \n",
    "    if num_matches == 0:\n",
    "        print('''The combination has occured 0 times.\n",
    "Your chances of winning using the combination {} are 0.0000072%.\n",
    "In other words, you have 1 in 13,983,816 chances to win.'''.format(user_nums))\n",
    "    else:    \n",
    "        print('''Your numbers {} has occured {} times in the past.\n",
    "Your chances of winning using the combination {} are 0.0000072%.\n",
    "In other words, you have 1 in 13,983,816 chances to win.'''.format(user_nums, num_matches, user_nums))\n",
    "          \n",
    "check_historical_occurence([3, 4, 11, 12, 43, 14], winning_numbers)"
   ]
  },
  {
   "cell_type": "code",
   "execution_count": 10,
   "metadata": {
    "collapsed": false,
    "scrolled": true
   },
   "outputs": [
    {
     "name": "stdout",
     "output_type": "stream",
     "text": [
      "The combination has occured 0 times.\n",
      "Your chances of winning using the combination [3, 4, 11, 12, 43, 14] are 0.0000072%.\n",
      "In other words, you have 1 in 13,983,816 chances to win.\n"
     ]
    }
   ],
   "source": [
    "test_1 = [3, 4, 11, 12, 43, 14] # never occured\n",
    "check_historical_occurence(test_1, winning_numbers)"
   ]
  },
  {
   "cell_type": "code",
   "execution_count": 11,
   "metadata": {
    "collapsed": false
   },
   "outputs": [
    {
     "name": "stdout",
     "output_type": "stream",
     "text": [
      "Your numbers [3, 41, 11, 12, 43, 14] has occured 1 times in the past.\n",
      "Your chances of winning using the combination [3, 41, 11, 12, 43, 14] are 0.0000072%.\n",
      "In other words, you have 1 in 13,983,816 chances to win.\n"
     ]
    }
   ],
   "source": [
    "test_2 = [3, 41, 11, 12, 43, 14] # has occured\n",
    "check_historical_occurence(test_2, winning_numbers)"
   ]
  },
  {
   "cell_type": "markdown",
   "metadata": {},
   "source": [
    "# Multi-ticket Probability\n",
    "The `multi_ticket_probability()` function below calculates the probability of winning the big prize with 1 or more tickets."
   ]
  },
  {
   "cell_type": "code",
   "execution_count": 12,
   "metadata": {
    "collapsed": true
   },
   "outputs": [],
   "source": [
    "def multi_ticket_probability(num_tickets):\n",
    "    n_combinations = combinations(49, 6)\n",
    "    probability = num_tickets / n_combinations\n",
    "    percentage_form = probability * 100\n",
    "    \n",
    "    if num_tickets == 1:\n",
    "        print('''Your chances of winning the big prize lottery with one ticket are {:.6f}%.\n",
    "In other words, you have 1 in {:,} chances to win.'''.format(percentage_form, int(n_combinations)))\n",
    "    else:\n",
    "        print('''Your chances of winning the big prize with {} tickets are {:.6f}%.\n",
    "In other words, you have 1 in {:,} chances of winning.\n",
    "'''.format(num_tickets, percentage_form, int(n_combinations)))"
   ]
  },
  {
   "cell_type": "code",
   "execution_count": 13,
   "metadata": {
    "collapsed": false,
    "scrolled": true
   },
   "outputs": [
    {
     "name": "stdout",
     "output_type": "stream",
     "text": [
      "Your chances of winning the big prize lottery with one ticket are 0.000007%.\n",
      "In other words, you have 1 in 13,983,816 chances to win.\n",
      "-------------------------------\n",
      "Your chances of winning the big prize with 10 tickets are 0.000072%.\n",
      "In other words, you have 1 in 13,983,816 chances of winning.\n",
      "\n",
      "-------------------------------\n",
      "Your chances of winning the big prize with 100 tickets are 0.000715%.\n",
      "In other words, you have 1 in 13,983,816 chances of winning.\n",
      "\n",
      "-------------------------------\n",
      "Your chances of winning the big prize with 10000 tickets are 0.071511%.\n",
      "In other words, you have 1 in 13,983,816 chances of winning.\n",
      "\n",
      "-------------------------------\n",
      "Your chances of winning the big prize with 1000000 tickets are 7.151124%.\n",
      "In other words, you have 1 in 13,983,816 chances of winning.\n",
      "\n",
      "-------------------------------\n",
      "Your chances of winning the big prize with 6991908 tickets are 50.000000%.\n",
      "In other words, you have 1 in 13,983,816 chances of winning.\n",
      "\n",
      "-------------------------------\n",
      "Your chances of winning the big prize with 13983816 tickets are 100.000000%.\n",
      "In other words, you have 1 in 13,983,816 chances of winning.\n",
      "\n",
      "-------------------------------\n"
     ]
    }
   ],
   "source": [
    "# test the function\n",
    "tests = [1, 10, 100, 10000, 1000000, 6991908, 13983816]\n",
    "\n",
    "for t in tests:\n",
    "    multi_ticket_probability(t)\n",
    "    print('-------------------------------')"
   ]
  },
  {
   "cell_type": "markdown",
   "metadata": {},
   "source": [
    "# Less Winning Number - Function"
   ]
  },
  {
   "cell_type": "markdown",
   "metadata": {},
   "source": [
    "In most 6/49 lotteries, there are smaller prizes if a player's ticket match two, three, four, or five of the six numbers drawn.\n",
    "\n",
    "The `probability_less_6()` function below calculates the probability of having exactly (no more or less) the given number of winning numbers. "
   ]
  },
  {
   "cell_type": "code",
   "execution_count": 14,
   "metadata": {
    "collapsed": true
   },
   "outputs": [],
   "source": [
    "def probability_less_6(n_winning_numbers):\n",
    "    n_combinations_ticket = combinations(6, n_winning_numbers)\n",
    "    n_combinations_remaining = combinations(43, 6 - n_winning_numbers)\n",
    "    successful_outcomes = n_combinations_ticket * n_combinations_remaining\n",
    "    \n",
    "    n_combinations_total = combinations(49, 6)\n",
    "    probability = successful_outcomes / n_combinations_total\n",
    "    \n",
    "    probability_percentage = probability * 100    \n",
    "    combinations_simplified = round(n_combinations_total/successful_outcomes)\n",
    "    \n",
    "    print('''Your chances of having {} winning numbers with this ticket are {:.6f}%.\n",
    "# In other words, you have a 1 in {:,} chances to win.'''.format(n_winning_numbers, probability_percentage,\n",
    "                                                               int(combinations_simplified)))    "
   ]
  },
  {
   "cell_type": "code",
   "execution_count": 15,
   "metadata": {
    "collapsed": false
   },
   "outputs": [
    {
     "name": "stdout",
     "output_type": "stream",
     "text": [
      "Your chances of having 2 winning numbers with this ticket are 13.237803%.\n",
      "# In other words, you have a 1 in 8 chances to win.\n",
      "-------------------------------\n",
      "Your chances of having 3 winning numbers with this ticket are 1.765040%.\n",
      "# In other words, you have a 1 in 57 chances to win.\n",
      "-------------------------------\n",
      "Your chances of having 4 winning numbers with this ticket are 0.096862%.\n",
      "# In other words, you have a 1 in 1,032 chances to win.\n",
      "-------------------------------\n",
      "Your chances of having 5 winning numbers with this ticket are 0.001845%.\n",
      "# In other words, you have a 1 in 54,201 chances to win.\n",
      "-------------------------------\n"
     ]
    }
   ],
   "source": [
    "# test the function\n",
    "tests = [2, 3, 4, 5]\n",
    "\n",
    "for t in tests:\n",
    "    probability_less_6(t)\n",
    "    print('-------------------------------')"
   ]
  }
 ],
 "metadata": {
  "kernelspec": {
   "display_name": "Python 3",
   "language": "python",
   "name": "python3"
  },
  "language_info": {
   "codemirror_mode": {
    "name": "ipython",
    "version": 3
   },
   "file_extension": ".py",
   "mimetype": "text/x-python",
   "name": "python",
   "nbconvert_exporter": "python",
   "pygments_lexer": "ipython3",
   "version": "3.4.3"
  }
 },
 "nbformat": 4,
 "nbformat_minor": 2
}
